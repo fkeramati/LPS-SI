{
 "cells": [
  {
   "cell_type": "markdown",
   "metadata": {},
   "source": [
    "# All Bone Marrow Mononuclear Cells From All Time Points\n",
    "Author: Farid Keramati  \n",
    "Date: 19/09/2022"
   ]
  },
  {
   "cell_type": "markdown",
   "metadata": {},
   "source": [
    "Use the following code to process, cluster, visualize and identify cell types from bone marrow of LPS-SI subjects, obtained from 3 donors at 3 time points:\n",
    "\n",
    "1. Day 0: Before LPS challenge  \n",
    "2. 4 hours: after LPS challenge (acute phase response)  \n",
    "3. Day 7: one week after LPS challenge (late phase response)\n",
    "\n",
    "In order to run codes, you need to download hg38 mapped gene per cell count matrix from GEO using accession number of [GSE212093](https://www.ncbi.nlm.nih.gov/geo/query/acc.cgi?acc=GSE212093).<br>\n",
    "Then download the provided [list of cells](../Cell%20%Lists/CellName_Whole_BoneMarrow_All_TimePoints.tsv) used for this analysis (in Cell Lists folder of this repository).  "
   ]
  },
  {
   "cell_type": "code",
   "execution_count": null,
   "metadata": {},
   "outputs": [],
   "source": []
  }
 ],
 "metadata": {
  "kernelspec": {
   "display_name": "R",
   "language": "R",
   "name": "ir"
  },
  "language_info": {
   "codemirror_mode": "r",
   "file_extension": ".r",
   "mimetype": "text/x-r-source",
   "name": "R",
   "pygments_lexer": "r",
   "version": "3.6.0"
  }
 },
 "nbformat": 4,
 "nbformat_minor": 4
}
